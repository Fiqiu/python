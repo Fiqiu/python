{
 "cells": [
  {
   "cell_type": "code",
   "execution_count": 8,
   "metadata": {},
   "outputs": [
    {
     "ename": "SyntaxError",
     "evalue": "invalid syntax (<ipython-input-8-14c7ff971523>, line 28)",
     "output_type": "error",
     "traceback": [
      "\u001b[1;36m  File \u001b[1;32m\"<ipython-input-8-14c7ff971523>\"\u001b[1;36m, line \u001b[1;32m28\u001b[0m\n\u001b[1;33m    for connector in (a,b,c)\u001b[0m\n\u001b[1;37m                            ^\u001b[0m\n\u001b[1;31mSyntaxError\u001b[0m\u001b[1;31m:\u001b[0m invalid syntax\n"
     ]
    }
   ],
   "source": [
    "'Declarative programming/Constraint-based system'\n",
    "from operator import add,sub,mul,truediv\n",
    "def converter(c,f):\n",
    "    \"Concerter is a function that implements the temperature change\"\n",
    "    u,v,w,x,y = [connector() for _ in range(5)]\n",
    "    multiplier(c,w,u)\n",
    "    multiplier(v,x,u)\n",
    "    adder(v,y,f)\n",
    "    constant(w,9)\n",
    "    constant(x,5)\n",
    "    constant(y,32)\n",
    "'''The system is composed of constraints and connectors;\n",
    "    Constraints are dictionaries that do not hold local states themselves but change the connectors they constrain\n",
    "    Connectors are dictionaries that hold a current value and respond to messages that manipulates values'''\n",
    "def adder(a,b,c):\n",
    "    return make_ternary_constraint(a,b,c,add,sub,sub)\n",
    "def make_ternary_constraint(a,b,c,ab,ca,cb):\n",
    "    \"generic three-way constraint\"\n",
    "    def new_value():\n",
    "        avalue, bvalue, cvalue = [connector['has_val']() for connector in (a,b,c)]\n",
    "        if avalue and bvalue:\n",
    "            c['set_val'](constraint,ab(a['val'],b['val']))\n",
    "        elif avalue and cvalue:\n",
    "            b['set_val'](constraint,ca(c['val'],a['val']))\n",
    "        elif bvalue and cvalue:\n",
    "            a['set_val'](constraint,cb(c['val'],b['val']))\n",
    "    def forget_value():\n",
    "        for connector in (a,b,c):\n",
    "            connector['forget'](constraint)\n",
    "    constraint = {'new_val':new_value,'forget':forget_value}\n",
    "    for connector in (a,b,c):\n",
    "        connector['connect'](constraint)\n",
    "    return constraint\n",
    "def multiplier(a,b,c):\n",
    "    return make_ternary_constraint(a,b,c,mul,truediv,truediv)\n",
    "def constant(connector,value):\n",
    "    constraint = {}\n",
    "    connector['set_val'](constraint,value)\n",
    "    return constraint\n",
    "def connector(name=None):\n",
    "    informant = None\n",
    "    constraints = []\n",
    "    def set_value(source, value):\n",
    "        nonlocal informant\n",
    "        val = connector['val']\n",
    "        if val is None:\n",
    "            informant, connector['val'] = source, value\n",
    "            if name is not None:\n",
    "                print(name, '=', value)\n",
    "            inform_all_except(source, 'new_val', constraints)\n",
    "        else:\n",
    "            if val != value:\n",
    "                print('Contraidiction detected:',val,'vs',value)\n",
    "    def forget_value(source):\n",
    "            nonlocal informant\n",
    "            if informant == source:\n",
    "                informant, connector['val'] = None, None\n",
    "                if name is not None:\n",
    "                    print(name,'is forgotten')\n",
    "                inform_all_except(source, 'forget', constraints)\n",
    "    connector = {\n",
    "                'val':None,\n",
    "                'set':set_value,\n",
    "                'forget':forget_value,\n",
    "                'has_value':lambda:connector['val'] is not None,\n",
    "                'connect':lambda: source: constraints.append(source)\n",
    "                }\n",
    "        return connector\n",
    "    \n",
    "def inform_all_except(source, message, constraints):\n",
    "    for c in constraints:\n",
    "        if c != source:\n",
    "            c[message]()"
   ]
  },
  {
   "cell_type": "code",
   "execution_count": null,
   "metadata": {},
   "outputs": [],
   "source": [
    "\"test\""
   ]
  },
  {
   "cell_type": "code",
   "execution_count": 4,
   "metadata": {},
   "outputs": [
    {
     "name": "stdout",
     "output_type": "stream",
     "text": [
      "1\n"
     ]
    }
   ],
   "source": [
    "import unittest\n",
    "class TestConstraint(unittest.TestCase):\n",
    "    \n",
    "    def test_int(self):\n",
    "        fahrenheit = connector('Fahrenheit')\n",
    "        celsius = connector('Celsius')\n",
    "        converter(celsius,fahrenheit)\n",
    "    \n",
    "    def test_set(self):\n",
    "        celsius['set_val']('user',25)\n",
    "        self.assertEqual(Celsius,25)\n",
    "        self.assertEqual(Fahrentheit,77.0)"
   ]
  }
 ],
 "metadata": {
  "kernelspec": {
   "display_name": "Python 3",
   "language": "python",
   "name": "python3"
  },
  "language_info": {
   "codemirror_mode": {
    "name": "ipython",
    "version": 3
   },
   "file_extension": ".py",
   "mimetype": "text/x-python",
   "name": "python",
   "nbconvert_exporter": "python",
   "pygments_lexer": "ipython3",
   "version": "3.7.0"
  }
 },
 "nbformat": 4,
 "nbformat_minor": 2
}
